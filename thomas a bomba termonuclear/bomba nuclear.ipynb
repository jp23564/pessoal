{
 "cells": [
  {
   "cell_type": "code",
   "execution_count": null,
   "id": "5e3cc61f-53af-4e2e-8b60-2edad18d31f2",
   "metadata": {},
   "outputs": [
    {
     "name": "stdin",
     "output_type": "stream",
     "text": [
      "digite seu nome:  capivara\n"
     ]
    },
    {
     "name": "stdout",
     "output_type": "stream",
     "text": [
      "bom dia meu nome é capivara bão só?\n"
     ]
    },
    {
     "name": "stdin",
     "output_type": "stream",
     "text": [
      "Cliente:  Ola\n"
     ]
    },
    {
     "name": "stdout",
     "output_type": "stream",
     "text": [
      "Chatbot: vocÃª quer explodir paris??\n",
      "\n"
     ]
    },
    {
     "name": "stdin",
     "output_type": "stream",
     "text": [
      "Cliente:  qual a capital do brasil\n"
     ]
    },
    {
     "name": "stdout",
     "output_type": "stream",
     "text": [
      "Chatbot: brazilia\n"
     ]
    },
    {
     "name": "stdin",
     "output_type": "stream",
     "text": [
      "Cliente:  fim\n"
     ]
    },
    {
     "name": "stdout",
     "output_type": "stream",
     "text": [
      "foi mal man não sei oque e isso po\n"
     ]
    },
    {
     "name": "stdin",
     "output_type": "stream",
     "text": [
      "oque espera de resposta??\n",
      " comeco\n"
     ]
    },
    {
     "name": "stdout",
     "output_type": "stream",
     "text": [
      "Meme anotado!!!\n"
     ]
    },
    {
     "name": "stdin",
     "output_type": "stream",
     "text": [
      "Cliente:  tchau\n"
     ]
    },
    {
     "name": "stdout",
     "output_type": "stream",
     "text": [
      "capivara , volte sempre!\n",
      "fim\n"
     ]
    },
    {
     "name": "stdin",
     "output_type": "stream",
     "text": [
      "Cliente:  ...\n"
     ]
    },
    {
     "name": "stdout",
     "output_type": "stream",
     "text": [
      "foi mal man não sei oque e isso po\n"
     ]
    },
    {
     "name": "stdin",
     "output_type": "stream",
     "text": [
      "oque espera de resposta??\n",
      " qual a captal da noruega\n"
     ]
    },
    {
     "name": "stdout",
     "output_type": "stream",
     "text": [
      "Meme anotado!!!\n"
     ]
    },
    {
     "name": "stdin",
     "output_type": "stream",
     "text": [
      "Cliente:  oslo\n"
     ]
    },
    {
     "name": "stdout",
     "output_type": "stream",
     "text": [
      "foi mal man não sei oque e isso po\n"
     ]
    },
    {
     "name": "stdin",
     "output_type": "stream",
     "text": [
      "oque espera de resposta??\n",
      " .\n"
     ]
    },
    {
     "name": "stdout",
     "output_type": "stream",
     "text": [
      "Meme anotado!!!\n"
     ]
    },
    {
     "name": "stdin",
     "output_type": "stream",
     "text": [
      "Cliente:  qual a capital da noruega\n"
     ]
    },
    {
     "name": "stdout",
     "output_type": "stream",
     "text": [
      "foi mal man não sei oque e isso po\n"
     ]
    },
    {
     "name": "stdin",
     "output_type": "stream",
     "text": [
      "oque espera de resposta??\n",
      " oslo\n"
     ]
    },
    {
     "name": "stdout",
     "output_type": "stream",
     "text": [
      "Meme anotado!!!\n"
     ]
    },
    {
     "name": "stdin",
     "output_type": "stream",
     "text": [
      "Cliente:  qual a capital da noruega\n"
     ]
    },
    {
     "name": "stdout",
     "output_type": "stream",
     "text": [
      "Chatbot: oslo\n"
     ]
    }
   ],
   "source": [
    "Chatbotstr = \"Chatbot: \"\n",
    "Clientestr = \"Cliente: \"\n",
    "fimstr = \"fim\"\n",
    "\n",
    "def saudacao(nome):\n",
    "    import random\n",
    "    frases = [\"bom dia meu nome é \"+nome+\" bão só?\", \"capivara?\" ,\"caminhão nuclear\"]\n",
    "    print(frases[random.randint(0,2)])\n",
    "\n",
    "def filtrartexto():\n",
    "    texto = Clientestr + input(Clientestr)\n",
    "    palavraslascou = [\"bomba termo nuclear\",\"thomas nuclear\",\"bocó\",\"ricardo milos\"]\n",
    "    for palavra in palavraslascou:\n",
    "        if palavra in texto:\n",
    "            print(\"pode não man\")\n",
    "            return filtrartexto()\n",
    "    return texto\n",
    "\n",
    "def buscaRespostas(nome, texto):\n",
    "    with open (\"txt.txt\",  \"a+\") as ricardomillos:\n",
    "        ricardomillos.seek(0)\n",
    "        while True:\n",
    "            viu = ricardomillos.readline()\n",
    "            if viu != \"\":\n",
    "                if texto.replace(Clientestr,\"\") == \"tchau\":\n",
    "                    print(nome+\" , volte sempre!\")\n",
    "                    return \"fim\"\n",
    "                elif viu.strip() == texto.strip():\n",
    "                    proximaLinha = ricardomillos.readline()\n",
    "                    if Chatbotstr in proximaLinha:\n",
    "                        return proximaLinha\n",
    "            else:\n",
    "                print(\"foi mal man não sei oque e isso po\")\n",
    "                ricardomillos.write(\"\\n\" +texto)\n",
    "                respostacliente = input(\"oque espera de resposta??\\n\")\n",
    "                ricardomillos.write(\"\\n\" + Chatbotstr + respostacliente)\n",
    "                return \"Meme anotado!!!\"\n",
    "                \n",
    "def exibeResposta(resposta):\n",
    "    if resposta == fimstr:\n",
    "        return fimstr\n",
    "    return \"continuar..\"\n",
    "\n",
    "nomeCliente = input(\"digite seu nome: \")\n",
    "saudacao(nomeCliente)\n",
    "\n",
    "while True:\n",
    "    texto = filtrartexto()\n",
    "    resposta = buscaRespostas(nomeCliente, texto)\n",
    "    if (exibeResposta(resposta) == \"fimstr\"):\n",
    "        break\n",
    "    else:\n",
    "        print(resposta)\n",
    "\n",
    "    "
   ]
  },
  {
   "cell_type": "code",
   "execution_count": null,
   "id": "ecb2da5a-f9bd-454d-93ad-e957b4346f1a",
   "metadata": {},
   "outputs": [],
   "source": []
  }
 ],
 "metadata": {
  "kernelspec": {
   "display_name": "Python 3 (ipykernel)",
   "language": "python",
   "name": "python3"
  },
  "language_info": {
   "codemirror_mode": {
    "name": "ipython",
    "version": 3
   },
   "file_extension": ".py",
   "mimetype": "text/x-python",
   "name": "python",
   "nbconvert_exporter": "python",
   "pygments_lexer": "ipython3",
   "version": "3.11.7"
  }
 },
 "nbformat": 4,
 "nbformat_minor": 5
}
