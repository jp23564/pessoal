{
 "cells": [
  {
   "cell_type": "code",
   "execution_count": 37,
   "id": "2abde146",
   "metadata": {},
   "outputs": [
    {
     "data": {
      "text/html": [
       "<div>\n",
       "<style scoped>\n",
       "    .dataframe tbody tr th:only-of-type {\n",
       "        vertical-align: middle;\n",
       "    }\n",
       "\n",
       "    .dataframe tbody tr th {\n",
       "        vertical-align: top;\n",
       "    }\n",
       "\n",
       "    .dataframe thead th {\n",
       "        text-align: right;\n",
       "    }\n",
       "</style>\n",
       "<table border=\"1\" class=\"dataframe\">\n",
       "  <thead>\n",
       "    <tr style=\"text-align: right;\">\n",
       "      <th></th>\n",
       "      <th>Nome</th>\n",
       "      <th>Idade</th>\n",
       "      <th>Cidade</th>\n",
       "      <th>Altura</th>\n",
       "    </tr>\n",
       "  </thead>\n",
       "  <tbody>\n",
       "    <tr>\n",
       "      <th>0</th>\n",
       "      <td>Luiz</td>\n",
       "      <td>16</td>\n",
       "      <td>Jundiaí</td>\n",
       "      <td>1.98</td>\n",
       "    </tr>\n",
       "    <tr>\n",
       "      <th>1</th>\n",
       "      <td>Gabriel</td>\n",
       "      <td>15</td>\n",
       "      <td>São Paulo</td>\n",
       "      <td>1.64</td>\n",
       "    </tr>\n",
       "    <tr>\n",
       "      <th>2</th>\n",
       "      <td>João</td>\n",
       "      <td>19</td>\n",
       "      <td>Francisco Morato</td>\n",
       "      <td>1.76</td>\n",
       "    </tr>\n",
       "    <tr>\n",
       "      <th>3</th>\n",
       "      <td>Paulo</td>\n",
       "      <td>24</td>\n",
       "      <td>Campinas</td>\n",
       "      <td>1.87</td>\n",
       "    </tr>\n",
       "    <tr>\n",
       "      <th>4</th>\n",
       "      <td>Maria</td>\n",
       "      <td>27</td>\n",
       "      <td>Jundiaí</td>\n",
       "      <td>1.54</td>\n",
       "    </tr>\n",
       "    <tr>\n",
       "      <th>5</th>\n",
       "      <td>Miguel</td>\n",
       "      <td>30</td>\n",
       "      <td>Campinas</td>\n",
       "      <td>1.59</td>\n",
       "    </tr>\n",
       "    <tr>\n",
       "      <th>6</th>\n",
       "      <td>Lucas</td>\n",
       "      <td>45</td>\n",
       "      <td>São Paulo</td>\n",
       "      <td>2.00</td>\n",
       "    </tr>\n",
       "    <tr>\n",
       "      <th>7</th>\n",
       "      <td>Jeremias</td>\n",
       "      <td>31</td>\n",
       "      <td>Francisco Morato</td>\n",
       "      <td>1.73</td>\n",
       "    </tr>\n",
       "  </tbody>\n",
       "</table>\n",
       "</div>"
      ],
      "text/plain": [
       "       Nome  Idade            Cidade  Altura\n",
       "0      Luiz     16           Jundiaí    1.98\n",
       "1   Gabriel     15         São Paulo    1.64\n",
       "2      João     19  Francisco Morato    1.76\n",
       "3     Paulo     24          Campinas    1.87\n",
       "4     Maria     27           Jundiaí    1.54\n",
       "5    Miguel     30          Campinas    1.59\n",
       "6     Lucas     45         São Paulo    2.00\n",
       "7  Jeremias     31  Francisco Morato    1.73"
      ]
     },
     "execution_count": 37,
     "metadata": {},
     "output_type": "execute_result"
    }
   ],
   "source": [
    "import pandas as pd\n",
    "\n",
    "data = {\n",
    "    'Nome': ['Luiz', 'Gabriel', 'João', 'Paulo', 'Maria', 'Miguel'],\n",
    "    'Idade': [16, 15, 19, 24, 27, 30],\n",
    "    'Cidade': ['Jundiaí', 'São Paulo', 'Francisco Morato', 'Campinas', 'Jundiaí', 'Campinas']\n",
    "}\n",
    "\n",
    "data = pd.read_csv('dados_usuarios.csv')\n",
    "\n",
    "cadastro = pd.DataFrame(data)\n",
    "cadastro\n",
    "\n"
   ]
  },
  {
   "cell_type": "code",
   "execution_count": 38,
   "id": "faad7d06",
   "metadata": {},
   "outputs": [
    {
     "data": {
      "text/plain": [
       "0        Luiz\n",
       "1     Gabriel\n",
       "2        João\n",
       "3       Paulo\n",
       "4       Maria\n",
       "5      Miguel\n",
       "6       Lucas\n",
       "7    Jeremias\n",
       "Name: Nome, dtype: object"
      ]
     },
     "execution_count": 38,
     "metadata": {},
     "output_type": "execute_result"
    }
   ],
   "source": [
    "nomes = cadastro['Nome']\n",
    "nomes"
   ]
  },
  {
   "cell_type": "code",
   "execution_count": 39,
   "id": "ab59b4cc",
   "metadata": {},
   "outputs": [
    {
     "data": {
      "text/html": [
       "<div>\n",
       "<style scoped>\n",
       "    .dataframe tbody tr th:only-of-type {\n",
       "        vertical-align: middle;\n",
       "    }\n",
       "\n",
       "    .dataframe tbody tr th {\n",
       "        vertical-align: top;\n",
       "    }\n",
       "\n",
       "    .dataframe thead th {\n",
       "        text-align: right;\n",
       "    }\n",
       "</style>\n",
       "<table border=\"1\" class=\"dataframe\">\n",
       "  <thead>\n",
       "    <tr style=\"text-align: right;\">\n",
       "      <th></th>\n",
       "      <th>Nome</th>\n",
       "      <th>Idade</th>\n",
       "      <th>Cidade</th>\n",
       "      <th>Altura</th>\n",
       "    </tr>\n",
       "  </thead>\n",
       "  <tbody>\n",
       "    <tr>\n",
       "      <th>2</th>\n",
       "      <td>João</td>\n",
       "      <td>19</td>\n",
       "      <td>Francisco Morato</td>\n",
       "      <td>1.76</td>\n",
       "    </tr>\n",
       "    <tr>\n",
       "      <th>3</th>\n",
       "      <td>Paulo</td>\n",
       "      <td>24</td>\n",
       "      <td>Campinas</td>\n",
       "      <td>1.87</td>\n",
       "    </tr>\n",
       "    <tr>\n",
       "      <th>4</th>\n",
       "      <td>Maria</td>\n",
       "      <td>27</td>\n",
       "      <td>Jundiaí</td>\n",
       "      <td>1.54</td>\n",
       "    </tr>\n",
       "    <tr>\n",
       "      <th>5</th>\n",
       "      <td>Miguel</td>\n",
       "      <td>30</td>\n",
       "      <td>Campinas</td>\n",
       "      <td>1.59</td>\n",
       "    </tr>\n",
       "    <tr>\n",
       "      <th>6</th>\n",
       "      <td>Lucas</td>\n",
       "      <td>45</td>\n",
       "      <td>São Paulo</td>\n",
       "      <td>2.00</td>\n",
       "    </tr>\n",
       "    <tr>\n",
       "      <th>7</th>\n",
       "      <td>Jeremias</td>\n",
       "      <td>31</td>\n",
       "      <td>Francisco Morato</td>\n",
       "      <td>1.73</td>\n",
       "    </tr>\n",
       "  </tbody>\n",
       "</table>\n",
       "</div>"
      ],
      "text/plain": [
       "       Nome  Idade            Cidade  Altura\n",
       "2      João     19  Francisco Morato    1.76\n",
       "3     Paulo     24          Campinas    1.87\n",
       "4     Maria     27           Jundiaí    1.54\n",
       "5    Miguel     30          Campinas    1.59\n",
       "6     Lucas     45         São Paulo    2.00\n",
       "7  Jeremias     31  Francisco Morato    1.73"
      ]
     },
     "execution_count": 39,
     "metadata": {},
     "output_type": "execute_result"
    }
   ],
   "source": [
    "filtro = cadastro[cadastro['Idade'] > 16]\n",
    "filtro"
   ]
  },
  {
   "cell_type": "code",
   "execution_count": 40,
   "id": "8d4310db",
   "metadata": {},
   "outputs": [
    {
     "data": {
      "text/plain": [
       "Cidade\n",
       "Campinas            27.0\n",
       "Francisco Morato    25.0\n",
       "Jundiaí             21.5\n",
       "São Paulo           30.0\n",
       "Name: Idade, dtype: float64"
      ]
     },
     "execution_count": 40,
     "metadata": {},
     "output_type": "execute_result"
    }
   ],
   "source": [
    "media_idade = cadastro.groupby('Cidade')['Idade'].mean()\n",
    "media_idade"
   ]
  },
  {
   "cell_type": "code",
   "execution_count": 41,
   "id": "11d25110",
   "metadata": {},
   "outputs": [],
   "source": [
    "#cadastro['Altura'] = [1.98, 1.64, 1.76, 1.87, 1.54, 1.59]\n",
    "#cadastro"
   ]
  },
  {
   "cell_type": "code",
   "execution_count": 42,
   "id": "ff82dd8b",
   "metadata": {},
   "outputs": [],
   "source": [
    "#cadastro.to_csv('dados_usuarios.csv', index=False)"
   ]
  }
 ],
 "metadata": {
  "kernelspec": {
   "display_name": ".venv",
   "language": "python",
   "name": "python3"
  },
  "language_info": {
   "codemirror_mode": {
    "name": "ipython",
    "version": 3
   },
   "file_extension": ".py",
   "mimetype": "text/x-python",
   "name": "python",
   "nbconvert_exporter": "python",
   "pygments_lexer": "ipython3",
   "version": "3.12.10"
  }
 },
 "nbformat": 4,
 "nbformat_minor": 5
}
